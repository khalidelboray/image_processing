{
 "cells": [
  {
   "cell_type": "markdown",
   "metadata": {},
   "source": [
    "# Image Loading and Info \n",
    "\n",
    "This notebook contains examples of loading images and displaying information about them.\n",
    "the used modules are:\n",
    "\n",
    "- ``PIL``: Python Imaging Library (For loading images)\n",
    "- ``matplotlib``: Matplotlib (for displaying images)\n",
    "- ``numpy``: Numpy (for processing images' arrays)"
   ]
  },
  {
   "cell_type": "markdown",
   "metadata": {},
   "source": [
    "## Installing and importing the required modules"
   ]
  },
  {
   "cell_type": "code",
   "execution_count": 2,
   "metadata": {},
   "outputs": [],
   "source": [
    "import sys\n",
    "\n",
    "! {sys.executable} -m pip install -q numpy Pillow matplotlib"
   ]
  },
  {
   "cell_type": "code",
   "execution_count": 3,
   "metadata": {},
   "outputs": [],
   "source": [
    "import numpy as np\n",
    "import matplotlib.pyplot as plt\n",
    "from PIL import Image"
   ]
  },
  {
   "cell_type": "markdown",
   "metadata": {},
   "source": [
    "## Loading an image\n",
    "\n",
    "To load an image, we use the `open` function of the ``PIL`` module.\n",
    "\n",
    "```python\n",
    "from PIL import Image\n",
    "Image.open('image.jpg')\n",
    "```"
   ]
  },
  {
   "cell_type": "code",
   "execution_count": 4,
   "metadata": {},
   "outputs": [
    {
     "data": {
      "image/png": "[encoded data removed]",
      "text/plain": [
       "<Figure size 432x288 with 1 Axes>"
      ]
     },
     "metadata": {
      "needs_background": "light"
     },
     "output_type": "display_data"
    }
   ],
   "source": [
    "# Load an image\n",
    "image = Image.open('images/white.png')\n",
    "\n",
    "# Convert to numpy array\n",
    "image_array = np.array(image)\n",
    "\n",
    "# Display the image\n",
    "plt.imshow(image_array,cmap='gray')\n",
    "plt.show()"
   ]
  },
  {
   "cell_type": "markdown",
   "metadata": {},
   "source": [
    "## Details of the image\n",
    "\n",
    "Now, we can get information about the image. The details are:\n",
    "\n",
    "- `dimension`: how many dimensions the image has\n",
    "- `shape`: the shape of the image (number of rows, number of columns, number of channels)"
   ]
  },
  {
   "cell_type": "code",
   "execution_count": 5,
   "metadata": {},
   "outputs": [
    {
     "name": "stdout",
     "output_type": "stream",
     "text": [
      "ndim: 2\n",
      "shape: (600, 800)\n"
     ]
    }
   ],
   "source": [
    "ndim = image_array.ndim\n",
    "shape = image_array.shape\n",
    "\n",
    "print(f'ndim: {ndim}')\n",
    "print(f'shape: {shape}')"
   ]
  },
  {
   "cell_type": "markdown",
   "metadata": {},
   "source": [
    "## Images as Arrays.\n",
    "\n",
    "An image can be represented as an array of pixels. An image of width $w$<br>\n",
    "pixels and height $h$ pixels is equivalent to an array $A$ of size $w × h$ pixels.<br>\n",
    "The pixel in position $[x, y]$ has value $A[x, y]$."
   ]
  },
  {
   "cell_type": "markdown",
   "metadata": {},
   "source": [
    "### Neighborhoods\n",
    "\n",
    "<img src=\"notebook_images/01_01.png\">\n",
    "\n",
    "- The neighborhood of a pixel is the set of pixels in the image that it touches.\n",
    "- The 4-neighbors of p touch p on the sides (dark pixels)\n",
    "- The d-neighbors of p touch p on the corners (shaded pixels)\n",
    "- Note: The pixel p is not a member of its neighborhood.\n",
    "\n",
    "<img src=\"notebook_images/01_02.png\">\n",
    "\n",
    "- The 8-neighbors of p touch p on all sides (dark pixels)\n",
    "- The 8-neighbor set is the union of the 4-neighbor set and the d-neighbor set.\n",
    "- Pixels outside the image are not in the neighborhood.\n"
   ]
  },
  {
   "cell_type": "markdown",
   "metadata": {},
   "source": [
    "### Connectivity\n",
    "\n",
    "* Two pixels are connected if they are **neighbors** that share a common property that defines a component.<br>\n",
    " The property may be color, brightness, range of brightness values, or anything else of interest.\n",
    "* Pixels may be 4-connected, d-connected, 8-connected and m-connected.\n",
    "* Pixels p and q are 4-connected if p and q both have the required property and q is in the 4-neighbor set of p.\n",
    "* Pixels p and q are d-connected if p and q both have the required property and q is in the d-neighbor set of p.\n"
   ]
  },
  {
   "cell_type": "markdown",
   "metadata": {},
   "source": [
    "### Connected Components\n",
    "\n",
    "<img src=\"notebook_images/01_03.png\">\n",
    "\n",
    "A set $S$ of pixels is a connected component if there is at least one path in\n",
    "$S$ that joins every pair ${p, q}$ of pixels in $S$, The path must contain only\n",
    "pixels in $S$.\n",
    "\n",
    "* $A$, $B$ and $C$ are connected components under 4-connectivity.\n",
    "\n",
    "* $B$ and $C$ are joined under 8 or m connectivity."
   ]
  },
  {
   "cell_type": "code",
   "execution_count": 16,
   "metadata": {},
   "outputs": [
    {
     "data": {
      "image/png": "[encoded data removed]",
      "text/plain": [
       "<Figure size 432x288 with 1 Axes>"
      ]
     },
     "metadata": {
      "needs_background": "light"
     },
     "output_type": "display_data"
    }
   ],
   "source": [
    "import cv2\n",
    "img = np.full((8, 8),255, np.uint8)\n",
    "cv2.rectangle(img, (2,2), (4,4), (0,0,0), -1)\n",
    "plt.imshow(img,cmap='gray')\n",
    "plt.show()"
   ]
  },
  {
   "cell_type": "code",
   "execution_count": 31,
   "metadata": {},
   "outputs": [
    {
     "data": {
      "text/plain": [
       "array([[2, 2],\n",
       "       [2, 3],\n",
       "       [2, 4],\n",
       "       [3, 2],\n",
       "       [3, 3],\n",
       "       [3, 4],\n",
       "       [4, 2],\n",
       "       [4, 3],\n",
       "       [4, 4]])"
      ]
     },
     "execution_count": 31,
     "metadata": {},
     "output_type": "execute_result"
    }
   ],
   "source": [
    "result = np.where(img == 0)\n",
    "points = list(zip(result[0], result[1]))\n",
    "points = np.array(points)\n",
    "rows = np.unique(points[:,0])\n",
    "cols = np.unique(points[:,1])\n",
    "points "
   ]
  }
 ],
 "metadata": {
  "interpreter": {
   "hash": "31f2aee4e71d21fbe5cf8b01ff0e069b9275f58929596ceb00d14d90e3e16cd6"
  },
  "kernelspec": {
   "display_name": "Python 3.8.10 64-bit",
   "language": "python",
   "name": "python3"
  },
  "language_info": {
   "codemirror_mode": {
    "name": "ipython",
    "version": 3
   },
   "file_extension": ".py",
   "mimetype": "text/x-python",
   "name": "python",
   "nbconvert_exporter": "python",
   "pygments_lexer": "ipython3",
   "version": "3.8.10"
  },
  "orig_nbformat": 4
 },
 "nbformat": 4,
 "nbformat_minor": 2
}
